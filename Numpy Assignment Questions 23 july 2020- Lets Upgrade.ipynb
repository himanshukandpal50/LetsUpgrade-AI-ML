{
 "cells": [
  {
   "cell_type": "markdown",
   "metadata": {},
   "source": [
    "# 1. Create a 3x3x3 array with random values "
   ]
  },
  {
   "cell_type": "code",
   "execution_count": 2,
   "metadata": {},
   "outputs": [
    {
     "data": {
      "text/plain": [
       "array([[[0.34552416, 0.1360116 , 0.24074662],\n",
       "        [0.06222141, 0.02034514, 0.39118609],\n",
       "        [0.74456708, 0.49125064, 0.48169936]],\n",
       "\n",
       "       [[0.66438128, 0.23413675, 0.16418016],\n",
       "        [0.13990674, 0.17055011, 0.03666679],\n",
       "        [0.35871083, 0.53451733, 0.79808396]],\n",
       "\n",
       "       [[0.7551105 , 0.95859541, 0.83251355],\n",
       "        [0.5959284 , 0.19915766, 0.26060312],\n",
       "        [0.00583177, 0.4649221 , 0.88742516]]])"
      ]
     },
     "execution_count": 2,
     "metadata": {},
     "output_type": "execute_result"
    }
   ],
   "source": [
    "# from random import rand\n",
    "import numpy as np\n",
    "\n",
    "a = np.random.rand(3,3,3)\n",
    "a"
   ]
  },
  {
   "cell_type": "markdown",
   "metadata": {},
   "source": [
    "# 2.Create a 5x5 matrix with values 1,2,3,4 just below the diagonal"
   ]
  },
  {
   "cell_type": "code",
   "execution_count": 6,
   "metadata": {},
   "outputs": [
    {
     "data": {
      "text/plain": [
       "array([[0, 0, 0, 0, 0],\n",
       "       [1, 0, 0, 0, 0],\n",
       "       [0, 2, 0, 0, 0],\n",
       "       [0, 0, 3, 0, 0],\n",
       "       [0, 0, 0, 4, 0]])"
      ]
     },
     "execution_count": 6,
     "metadata": {},
     "output_type": "execute_result"
    }
   ],
   "source": [
    "a = np.diag([1,2,3,4], k = -1)\n",
    "a"
   ]
  },
  {
   "cell_type": "markdown",
   "metadata": {},
   "source": [
    "# 3.Create a 8x8 matrix and fill it with a checkerboard pattern"
   ]
  },
  {
   "cell_type": "code",
   "execution_count": 45,
   "metadata": {},
   "outputs": [
    {
     "name": "stdout",
     "output_type": "stream",
     "text": [
      "[[0 1 0 1 0 1 0 1]\n",
      " [1 0 1 0 1 0 1 0]\n",
      " [0 1 0 1 0 1 0 1]\n",
      " [1 0 1 0 1 0 1 0]\n",
      " [0 1 0 1 0 1 0 1]\n",
      " [1 0 1 0 1 0 1 0]\n",
      " [0 1 0 1 0 1 0 1]\n",
      " [1 0 1 0 1 0 1 0]]\n"
     ]
    }
   ],
   "source": [
    "a = np.zeros((8,8), dtype= int)\n",
    "for i in range(a.shape[0]):\n",
    "    for j  in range(a.shape[1]):\n",
    "        if (i+j)%2:\n",
    "            a[i][j]  = 1\n",
    "\n",
    "# a[1::2, ::2] = 1\n",
    "# a[::2, 1::2] = 1\n",
    "print(a)"
   ]
  },
  {
   "cell_type": "markdown",
   "metadata": {},
   "source": [
    "# 4. Normalize a 5x5 random matrix"
   ]
  },
  {
   "cell_type": "code",
   "execution_count": 21,
   "metadata": {},
   "outputs": [
    {
     "name": "stdout",
     "output_type": "stream",
     "text": [
      "[[0.09596187 0.24217367 0.40370949 0.63325059 0.61092759]\n",
      " [0.66515304 0.73573235 0.79405589 0.14239594 0.99851648]\n",
      " [0.71548616 0.12757208 0.6807718  0.74397692 0.39463095]\n",
      " [0.72240532 0.24068425 0.82213161 0.83912178 0.00985091]\n",
      " [0.30445998 0.38397292 0.77186621 0.70039769 0.77418235]]\n",
      "\n",
      "normalized matrix is: \n",
      "\n",
      "[[0.08709816 0.23498619 0.39837392 0.63054657 0.60796765]\n",
      " [0.66281475 0.73420321 0.79319539 0.13406457 1.        ]\n",
      " [0.71372491 0.11907076 0.67861258 0.7425423  0.3891913 ]\n",
      " [0.72072339 0.2334797  0.82159299 0.83877793 0.        ]\n",
      " [0.29798658 0.37841108 0.77075132 0.69846346 0.77309402]]\n"
     ]
    }
   ],
   "source": [
    "# np.seed(45)\n",
    "\n",
    "a = np.random.rand(5,5)\n",
    "print(a)\n",
    "\n",
    "amax, amin = a.max(), a.min()\n",
    "\n",
    "a = (a - amin)/(amax - amin)\n",
    "print(\"\\nnormalized matrix is: \\n\")\n",
    "print(a)"
   ]
  },
  {
   "cell_type": "markdown",
   "metadata": {},
   "source": [
    "# 5.  How to find common values between two arrays?"
   ]
  },
  {
   "cell_type": "code",
   "execution_count": 40,
   "metadata": {},
   "outputs": [
    {
     "data": {
      "text/plain": [
       "array([3, 4])"
      ]
     },
     "execution_count": 40,
     "metadata": {},
     "output_type": "execute_result"
    }
   ],
   "source": [
    "a = np.array([2,3,4,5,6])\n",
    "b = np.array([3,4,8,9,12])\n",
    "np.intersect1d(a,b)"
   ]
  },
  {
   "cell_type": "markdown",
   "metadata": {},
   "source": [
    "# 6.How to get the dates of yesterday, today and tomorrow?"
   ]
  },
  {
   "cell_type": "code",
   "execution_count": 42,
   "metadata": {},
   "outputs": [
    {
     "name": "stdout",
     "output_type": "stream",
     "text": [
      "Today's date:  2020-07-26\n",
      "Yesterday's date:  2020-07-25\n",
      "Tomorrow's date:  2020-07-27\n"
     ]
    }
   ],
   "source": [
    "a = np.datetime64('today')\n",
    "print(\"Today's date: \",a)\n",
    "yest =  a- np.timedelta64(1)\n",
    "print(\"Yesterday's date: \",yest)\n",
    "tomorrow = a + np.timedelta64(1)\n",
    "print(\"Tomorrow's date: \",tomorrow)"
   ]
  },
  {
   "cell_type": "markdown",
   "metadata": {},
   "source": [
    "# 7. Consider two random array A and B, check if they are equal"
   ]
  },
  {
   "cell_type": "code",
   "execution_count": 44,
   "metadata": {},
   "outputs": [
    {
     "name": "stdout",
     "output_type": "stream",
     "text": [
      "False\n",
      "True\n"
     ]
    }
   ],
   "source": [
    "a = np.array([2,3,4,5,6])\n",
    "b = np.array([3,4,8,9,12])\n",
    "c = np.array([2,3,4,5,6])\n",
    "print(np.array_equal(a,b))\n",
    "print(np.array_equal(c,a))"
   ]
  },
  {
   "cell_type": "markdown",
   "metadata": {},
   "source": [
    "# 8.Create random vector of size 10 and replace the maximum value by 0 "
   ]
  },
  {
   "cell_type": "code",
   "execution_count": 54,
   "metadata": {},
   "outputs": [
    {
     "name": "stdout",
     "output_type": "stream",
     "text": [
      "[0.18967627 0.33627641 0.88439304 0.980944   0.96275179 0.62673459\n",
      " 0.29623472 0.50974721 0.38249516 0.26877471]\n",
      "[0.18967627 0.33627641 0.88439304 0.         0.96275179 0.62673459\n",
      " 0.29623472 0.50974721 0.38249516 0.26877471]\n"
     ]
    }
   ],
   "source": [
    "a = np.random.random(10)\n",
    "\n",
    "print(a)\n",
    "a[a.argmax()] = 0\n",
    "print(a)"
   ]
  },
  {
   "cell_type": "markdown",
   "metadata": {},
   "source": [
    "# 9. How to print all the values of an array?"
   ]
  },
  {
   "cell_type": "code",
   "execution_count": 56,
   "metadata": {},
   "outputs": [
    {
     "name": "stdout",
     "output_type": "stream",
     "text": [
      "[[0.5062372  0.82011595]\n",
      " [0.5813736  0.21013523]]\n"
     ]
    }
   ],
   "source": [
    "a = np.random.rand(2,2)\n",
    "print(a)"
   ]
  },
  {
   "cell_type": "markdown",
   "metadata": {},
   "source": [
    "# 10.Subtract the mean of each row of a matrix"
   ]
  },
  {
   "cell_type": "code",
   "execution_count": 59,
   "metadata": {},
   "outputs": [
    {
     "name": "stdout",
     "output_type": "stream",
     "text": [
      "[[0.77358959 0.57185064 0.83853613 0.28367137 0.21453501]\n",
      " [0.1057174  0.92522707 0.81817434 0.32979466 0.56246164]\n",
      " [0.68938808 0.15477804 0.73213456 0.37282849 0.90921906]\n",
      " [0.00379802 0.41403938 0.45143763 0.59277696 0.1228879 ]\n",
      " [0.9946727  0.64128361 0.86428998 0.16802607 0.31229603]]\n",
      "\n",
      "\n",
      " [[ 0.23715304  0.03541409  0.30209959 -0.25276518 -0.32190154]\n",
      " [-0.44255762  0.37695205  0.26989932 -0.21848036  0.01418662]\n",
      " [ 0.11771843 -0.41689161  0.16046491 -0.19884116  0.33754942]\n",
      " [-0.31318996  0.0970514   0.13444965  0.27578898 -0.19410007]\n",
      " [ 0.39855902  0.04516993  0.2681763  -0.42808761 -0.28381765]]\n"
     ]
    }
   ],
   "source": [
    "a = np.random.rand(5,5)\n",
    "print(a)\n",
    "b = a - a.mean(axis = 1, keepdims = True)\n",
    "print(\"\\n\\n\",b)"
   ]
  },
  {
   "cell_type": "markdown",
   "metadata": {},
   "source": [
    "# 11.Consider a given vector, how to add 1 to each element indexed by a second vector (be careful with repeated indices)? "
   ]
  },
  {
   "cell_type": "code",
   "execution_count": 107,
   "metadata": {},
   "outputs": [
    {
     "name": "stdout",
     "output_type": "stream",
     "text": [
      "[1. 1. 1. 1. 1. 1. 1. 1. 1. 1.]\n",
      "[4 5 2 2 1 9 3 8 5 5 0 6 7 9 3 5 0 8 7 4]\n",
      "[3. 2. 3. 3. 3. 5. 2. 3. 3. 3.]\n"
     ]
    }
   ],
   "source": [
    "#copied\n",
    "Z = np.ones(10)\n",
    "print(Z)\n",
    "I = np.random.randint(0,len(Z),20)\n",
    "print(I)\n",
    "Z += np.bincount(I, minlength=len(Z))\n",
    "print(Z)"
   ]
  },
  {
   "cell_type": "code",
   "execution_count": null,
   "metadata": {},
   "outputs": [],
   "source": []
  },
  {
   "cell_type": "markdown",
   "metadata": {},
   "source": [
    "# 12.How to get the diagonal of a dot product?"
   ]
  },
  {
   "cell_type": "code",
   "execution_count": 104,
   "metadata": {},
   "outputs": [
    {
     "name": "stdout",
     "output_type": "stream",
     "text": [
      "[[2 3]\n",
      " [4 4]]\n",
      "[[5 2]\n",
      " [0 5]]\n"
     ]
    },
    {
     "data": {
      "text/plain": [
       "array([10, 28])"
      ]
     },
     "execution_count": 104,
     "metadata": {},
     "output_type": "execute_result"
    }
   ],
   "source": [
    "a = np.random.randint(0,10,(2,2))\n",
    "b= np.random.randint(0,10,(2,2))\n",
    "\n",
    "print(a)\n",
    "print(b)\n",
    "\n",
    "np.diag(np.dot(a, b))"
   ]
  },
  {
   "cell_type": "markdown",
   "metadata": {},
   "source": [
    "# 13.How to find the most frequent value in an array?"
   ]
  },
  {
   "cell_type": "code",
   "execution_count": 89,
   "metadata": {},
   "outputs": [
    {
     "name": "stdout",
     "output_type": "stream",
     "text": [
      "[6 7 3 9 6 8 7 9 2 6 2 3 4 4 2]\n"
     ]
    },
    {
     "data": {
      "text/plain": [
       "2"
      ]
     },
     "execution_count": 89,
     "metadata": {},
     "output_type": "execute_result"
    }
   ],
   "source": [
    "a = np.random.randint(1,10,15)\n",
    "print(a)\n",
    "# print(np.bincount(a))\n",
    "np.bincount(a).argmax()"
   ]
  },
  {
   "cell_type": "markdown",
   "metadata": {},
   "source": [
    "# 14.How to get the n largest values of an array"
   ]
  },
  {
   "cell_type": "code",
   "execution_count": 97,
   "metadata": {},
   "outputs": [
    {
     "name": "stdout",
     "output_type": "stream",
     "text": [
      "[98 99 97 96 95]\n"
     ]
    }
   ],
   "source": [
    "a = np.arange(100)\n",
    "np.random.shuffle(a)\n",
    "n = 5\n",
    "\n",
    "\n",
    "print (a[np.argpartition(-a,n)][:n])\n"
   ]
  },
  {
   "cell_type": "markdown",
   "metadata": {},
   "source": [
    "# 15.How to create a record array from a regular array?"
   ]
  },
  {
   "cell_type": "code",
   "execution_count": 96,
   "metadata": {},
   "outputs": [
    {
     "name": "stdout",
     "output_type": "stream",
     "text": [
      "(2, 'dd', 2.)\n"
     ]
    }
   ],
   "source": [
    "x1=np.array([1,2,3,4])\n",
    "x2=np.array(['a','dd','xyz','12'])\n",
    "x3=np.array([1.1,2,3,4])\n",
    "r = np.core.records.fromarrays([x1,x2,x3],names='a,b,c')\n",
    "print(r[1])"
   ]
  },
  {
   "cell_type": "code",
   "execution_count": null,
   "metadata": {},
   "outputs": [],
   "source": []
  }
 ],
 "metadata": {
  "kernelspec": {
   "display_name": "Python 3",
   "language": "python",
   "name": "python3"
  },
  "language_info": {
   "codemirror_mode": {
    "name": "ipython",
    "version": 3
   },
   "file_extension": ".py",
   "mimetype": "text/x-python",
   "name": "python",
   "nbconvert_exporter": "python",
   "pygments_lexer": "ipython3",
   "version": "3.7.7"
  }
 },
 "nbformat": 4,
 "nbformat_minor": 2
}
