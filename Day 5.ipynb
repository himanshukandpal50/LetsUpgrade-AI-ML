{
 "cells": [
  {
   "cell_type": "markdown",
   "metadata": {},
   "source": [
    "# Write a Python program to find the first 20 non-even prime natural numbers."
   ]
  },
  {
   "cell_type": "code",
   "execution_count": 7,
   "metadata": {},
   "outputs": [],
   "source": [
    "def odd_prime_finder(n):\n",
    "    lst = []\n",
    "    i  = 3\n",
    "    count = 0\n",
    "    while count<n:\n",
    "        flag = True\n",
    "        for j in range(2,int(i**.5+1)):\n",
    "            if not i%j:\n",
    "                flag = False\n",
    "        if flag:\n",
    "            lst.append(i)\n",
    "            count+=1\n",
    "        i+=1   \n",
    "    return lst"
   ]
  },
  {
   "cell_type": "code",
   "execution_count": 11,
   "metadata": {},
   "outputs": [
    {
     "name": "stdout",
     "output_type": "stream",
     "text": [
      "[3, 5, 7, 11, 13, 17, 19, 23, 29, 31, 37, 41, 43, 47, 53, 59, 61, 67, 71, 73]\n"
     ]
    }
   ],
   "source": [
    "print(odd_prime_finder(20))"
   ]
  },
  {
   "cell_type": "markdown",
   "metadata": {},
   "source": [
    "# 2. Write a Python program to implement 15 functions of string."
   ]
  },
  {
   "cell_type": "code",
   "execution_count": 24,
   "metadata": {},
   "outputs": [
    {
     "data": {
      "text/plain": [
       "'Himanshu 12 Hola hello world'"
      ]
     },
     "execution_count": 24,
     "metadata": {},
     "output_type": "execute_result"
    }
   ],
   "source": [
    "# 1. Converts the first character to upper case\n",
    "def capitalize(string):\n",
    "    if string[0] <'a':\n",
    "        return string\n",
    "    else:\n",
    "        return chr(ord(string[0])-32)+string[1:]\n",
    "\n",
    "capitalize(\"himanshu 12 Hola hello world\")"
   ]
  },
  {
   "cell_type": "code",
   "execution_count": 25,
   "metadata": {},
   "outputs": [
    {
     "data": {
      "text/plain": [
       "'hello, and welcome to my world!'"
      ]
     },
     "execution_count": 25,
     "metadata": {},
     "output_type": "execute_result"
    }
   ],
   "source": [
    "# 2. Converts string into lower case\n",
    "def casefold(string):\n",
    "    j= \"\"\n",
    "    for i in string:\n",
    "        if i>='A' and i<='Z':\n",
    "            j = j + chr(ord(i)+32)\n",
    "        else:\n",
    "            j = j + i\n",
    "    return j\n",
    "\n",
    "casefold(\"Hello, And Welcome To My World!\")"
   ]
  },
  {
   "cell_type": "code",
   "execution_count": 28,
   "metadata": {},
   "outputs": [
    {
     "data": {
      "text/plain": [
       "True"
      ]
     },
     "execution_count": 28,
     "metadata": {},
     "output_type": "execute_result"
    }
   ],
   "source": [
    "# 3. Returns True if all characters in the string are in the alphabet\n",
    "\n",
    "def isalpha(string):\n",
    "    flag  = True\n",
    "    for i in string:\n",
    "        if i not in 'abcdefghijklmnopqrstuvwxyzABCDEFGHIJKLMNOPQRSTUVWXYZ':\n",
    "            flag = False\n",
    "            break\n",
    "    return flag\n",
    "\n",
    "isalpha(\"HelloWorld\")\n",
    "    \n",
    "    "
   ]
  },
  {
   "cell_type": "code",
   "execution_count": 32,
   "metadata": {},
   "outputs": [
    {
     "data": {
      "text/plain": [
       "True"
      ]
     },
     "execution_count": 32,
     "metadata": {},
     "output_type": "execute_result"
    }
   ],
   "source": [
    "# 4. Returns True if all characters in the string are digits\n",
    "def isdigit(string):\n",
    "    flag = True\n",
    "    for i in string:\n",
    "        if i not in '1234567890':\n",
    "            flag = False\n",
    "            break\n",
    "    return flag\n",
    "\n",
    "isdigit('2313131')"
   ]
  },
  {
   "cell_type": "code",
   "execution_count": 36,
   "metadata": {},
   "outputs": [
    {
     "data": {
      "text/plain": [
       "True"
      ]
     },
     "execution_count": 36,
     "metadata": {},
     "output_type": "execute_result"
    }
   ],
   "source": [
    "#5. Returns True if all characters in the string are alphanumeric\n",
    "def isalnum(string):\n",
    "    flag  = True\n",
    "    for i in string:\n",
    "        if i not in 'abcdefghijklmnopqrstuvwxyzABCDEFGHIJKLMNOPQRSTUVWXYZ1234567890':\n",
    "            flag = False\n",
    "            break\n",
    "    return flag\n",
    "\n",
    "isalnum(\"HelloWorld12313\")"
   ]
  },
  {
   "cell_type": "code",
   "execution_count": 48,
   "metadata": {},
   "outputs": [
    {
     "data": {
      "text/plain": [
       "'HELLO WORL213D'"
      ]
     },
     "execution_count": 48,
     "metadata": {},
     "output_type": "execute_result"
    }
   ],
   "source": [
    "#6 Converts a string into upper case\n",
    "def upper(string):\n",
    "    ot = \"\"\n",
    "    for i in string:\n",
    "        if i>='a' and i<='z':\n",
    "            ot += chr(ord(i)-32)\n",
    "        else:\n",
    "            ot += i\n",
    "    return ot\n",
    "\n",
    "upper(\"Hello Worl213d\")"
   ]
  },
  {
   "cell_type": "code",
   "execution_count": 51,
   "metadata": {},
   "outputs": [
    {
     "data": {
      "text/plain": [
       "'hello worl213d'"
      ]
     },
     "execution_count": 51,
     "metadata": {},
     "output_type": "execute_result"
    }
   ],
   "source": [
    "#7 Converts a string into lower case\n",
    "\n",
    "def lower(string):\n",
    "    ot = \"\"\n",
    "    for i in string:\n",
    "        if i>='A' and i<='Z':\n",
    "            ot += chr(ord(i)+32)\n",
    "        else:\n",
    "            ot += i\n",
    "    return ot\n",
    "\n",
    "lower(\"Hello Worl213d\")\n"
   ]
  },
  {
   "cell_type": "code",
   "execution_count": 53,
   "metadata": {},
   "outputs": [
    {
     "data": {
      "text/plain": [
       "'Hello World, This Is Himanshu Kandpal'"
      ]
     },
     "execution_count": 53,
     "metadata": {},
     "output_type": "execute_result"
    }
   ],
   "source": [
    "# 8 Converts the first character of each word to upper case\n",
    "\n",
    "def title(string):\n",
    "    ot = \"\"\n",
    "    \n",
    "    for i in range(len(string)):\n",
    "        if i==0:\n",
    "            if string[i] in \"abcdefghijklmnopqrstuvwxyz\":\n",
    "                ot += chr(ord(string[0])-32)\n",
    "            else:\n",
    "                ot += string[i]\n",
    "        \n",
    "        else:\n",
    "            if string[i-1] == \" \" and string[i] in \"abcdefghijklmnopqrstuvwxyz\":\n",
    "                ot += chr(ord(string[i])-32)\n",
    "            else:\n",
    "                ot += string[i]\n",
    "    return ot\n",
    "\n",
    "title(\"hello world, this is himanshu kandpal\")\n",
    "        "
   ]
  },
  {
   "cell_type": "code",
   "execution_count": 61,
   "metadata": {},
   "outputs": [
    {
     "data": {
      "text/plain": [
       "'sdk'"
      ]
     },
     "execution_count": 61,
     "metadata": {},
     "output_type": "execute_result"
    }
   ],
   "source": [
    "a = \"fhsdkjhfksdhfsds\"\n",
    "a[2:5]"
   ]
  },
  {
   "cell_type": "code",
   "execution_count": 41,
   "metadata": {},
   "outputs": [
    {
     "data": {
      "text/plain": [
       "10"
      ]
     },
     "execution_count": 41,
     "metadata": {},
     "output_type": "execute_result"
    }
   ],
   "source": [
    "#  9 Searches the string for a specified value and returns the position of where it was found\n",
    "def find(string, key):\n",
    "    a = \"\"\n",
    "    b = []\n",
    "    i = 0\n",
    "    while i<len(string):\n",
    "            if string[i:i+len(key)] == key:\n",
    "                return i\n",
    "            i += 1\n",
    "    return -1\n",
    "    \n",
    "find(\"This is a Python string\", \"Python\")"
   ]
  },
  {
   "cell_type": "code",
   "execution_count": 6,
   "metadata": {},
   "outputs": [
    {
     "data": {
      "text/plain": [
       "False"
      ]
     },
     "execution_count": 6,
     "metadata": {},
     "output_type": "execute_result"
    }
   ],
   "source": [
    "# 10. Returns True if all characters in the string are lower case\n",
    "\n",
    "def islower(string):\n",
    "    flag = True\n",
    "    for i in string:\n",
    "        if i not in 'abcdefghijklmnopqrstuvwxyz':\n",
    "            flag = False\n",
    "            break\n",
    "    return flag\n",
    "\n",
    "islower(\"ghsgdkjashdkjAashdkahsdl\")"
   ]
  },
  {
   "cell_type": "code",
   "execution_count": 10,
   "metadata": {},
   "outputs": [
    {
     "data": {
      "text/plain": [
       "True"
      ]
     },
     "execution_count": 10,
     "metadata": {},
     "output_type": "execute_result"
    }
   ],
   "source": [
    "# 11. Returns True if all characters in the string are upper case\n",
    "def isupper(string):\n",
    "    flag = True\n",
    "    for i in string:\n",
    "        if i not in 'ABCDEFGHIJKLMNOPQRSTUVWXYZ':\n",
    "            flag = False\n",
    "            break\n",
    "    return flag\n",
    "\n",
    "isupper(\"DSADADASDAS\")"
   ]
  },
  {
   "cell_type": "code",
   "execution_count": 27,
   "metadata": {},
   "outputs": [
    {
     "data": {
      "text/plain": [
       "True"
      ]
     },
     "execution_count": 27,
     "metadata": {},
     "output_type": "execute_result"
    }
   ],
   "source": [
    "# 12. Returns True if all characters in a string are decimal characters. If not, it returns False\n",
    "'123.3232.2313'.split('.')\n",
    "'12332322313'.split('.')\n",
    "def isdecimal(string):\n",
    "    flag = True\n",
    "    for i in string:\n",
    "        if i not in '1234567890.':\n",
    "            flag = False\n",
    "            break\n",
    "    \n",
    "    if len(string.split('.'))>2:\n",
    "        flag = False\n",
    "    \n",
    "    return flag\n",
    "\n",
    "isdecimal('45.3434')\n",
    "    \n"
   ]
  },
  {
   "cell_type": "code",
   "execution_count": 31,
   "metadata": {},
   "outputs": [
    {
     "data": {
      "text/plain": [
       "'aaaaASAAS'"
      ]
     },
     "execution_count": 31,
     "metadata": {},
     "output_type": "execute_result"
    }
   ],
   "source": [
    "# 13. converts all uppercase characters to lowercase and all lowercase characters to uppercase\n",
    "# characters of the given string, and returns it\n",
    "def swapcase(string):\n",
    "    ot = \"\"\n",
    "    for i in string:\n",
    "        if i in 'abcdefghijklmnopqrstuvwxyz':\n",
    "            ot += chr(ord(i)-32)\n",
    "        elif i in 'ABCDEFGHIJKLMNOPQRSTUVWXYZ':\n",
    "            ot += chr(ord(i)+32)\n",
    "        else:\n",
    "            ot += i\n",
    "    return ot\n",
    "\n",
    "swapcase(\"AAAAasaas\")"
   ]
  },
  {
   "cell_type": "code",
   "execution_count": 35,
   "metadata": {},
   "outputs": [
    {
     "data": {
      "text/plain": [
       "False"
      ]
     },
     "execution_count": 35,
     "metadata": {},
     "output_type": "execute_result"
    }
   ],
   "source": [
    "# 15. Returns True if the string is an identifier\n",
    "\n",
    "def isidentifier(string):\n",
    "    flag = True\n",
    "    if string[0] not in 'abcdefghijklmnopqrstuvwxyzABCDEFGHIJKLMNOPQRSTUVWXYZ_':\n",
    "        flag = False\n",
    "        return flag\n",
    "    else:\n",
    "        for i in string:\n",
    "            if i not in 'abcdefghijklmnopqrstuvwxyzABCDEFGHIJKLMNOPQRSTUVWXYZ1234567890_':\n",
    "                flag = False\n",
    "                break\n",
    "    return flag\n",
    "\n",
    "isidentifier(\"himanshu kandpal\")"
   ]
  },
  {
   "cell_type": "markdown",
   "metadata": {},
   "source": [
    "#  3. Write a Python program to check if the given string is a Palindrome or Anagram or None of them.Display the message accordingly to the user.\n"
   ]
  },
  {
   "cell_type": "code",
   "execution_count": 38,
   "metadata": {},
   "outputs": [
    {
     "name": "stdin",
     "output_type": "stream",
     "text": [
      "enter the string you want to test: \n",
      " malayalam\n",
      "enter the string you want to test whether its an anagram of previos input: \n",
      " aamlyalam\n"
     ]
    },
    {
     "name": "stdout",
     "output_type": "stream",
     "text": [
      "the string is a palindrome\n",
      "string a anagram of previous string\n"
     ]
    }
   ],
   "source": [
    "def palin_check(string):\n",
    "    if string == string[::-1]:\n",
    "        return True\n",
    "    else:\n",
    "        return False\n",
    "\n",
    "def anagram_check(string1, string2):\n",
    "    if \"\".join(sorted(string1)) == \"\".join(sorted(string2)):\n",
    "        return True\n",
    "    else:\n",
    "        return False\n",
    "    \n",
    "a = input(\"enter the string you want to test: \\n\")\n",
    "\n",
    "b = input(\"enter the string you want to test whether its an anagram of previos input: \\n\")\n",
    "\n",
    "if palin_check(a):\n",
    "    print(\"the string is a palindrome\")\n",
    "else:\n",
    "    print(\"the string is not a palindrome\")\n",
    "    \n",
    "if anagram_check(a,b):\n",
    "    print(\"string is an anagram of previous string\")\n",
    "else:\n",
    "    print(\"string is not anagram of previous string\")"
   ]
  },
  {
   "cell_type": "markdown",
   "metadata": {},
   "source": [
    "# 4. Write a Python's user defined function that removes all the additional characters from the \n",
    "# string and converts it finally to lower case using built-in lower(). eg: If the string is \n",
    "# \"Dr. Darshan Ingle @AI-ML Trainer\", then the output be \"drdarshaningle aimltrainer\"."
   ]
  },
  {
   "cell_type": "code",
   "execution_count": 43,
   "metadata": {},
   "outputs": [
    {
     "data": {
      "text/plain": [
       "'drdarshaningleaimltrainer'"
      ]
     },
     "execution_count": 43,
     "metadata": {},
     "output_type": "execute_result"
    }
   ],
   "source": [
    "def remove_additional(string):\n",
    "    op= \"\"\n",
    "    for i in string:\n",
    "        if i in \"~`!@#$%^&* )(/-*+.\":\n",
    "            continue\n",
    "        else:\n",
    "            op += i\n",
    "    return op.lower()\n",
    "\n",
    "remove_additional(\"Dr. Darshan Ingle @AI-ML Trainer\")\n",
    "        "
   ]
  },
  {
   "cell_type": "code",
   "execution_count": null,
   "metadata": {},
   "outputs": [],
   "source": []
  }
 ],
 "metadata": {
  "kernelspec": {
   "display_name": "Python 3",
   "language": "python",
   "name": "python3"
  },
  "language_info": {
   "codemirror_mode": {
    "name": "ipython",
    "version": 3
   },
   "file_extension": ".py",
   "mimetype": "text/x-python",
   "name": "python",
   "nbconvert_exporter": "python",
   "pygments_lexer": "ipython3",
   "version": "3.7.7"
  }
 },
 "nbformat": 4,
 "nbformat_minor": 4
}
